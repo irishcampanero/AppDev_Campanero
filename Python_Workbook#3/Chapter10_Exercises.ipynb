{
 "cells": [
  {
   "cell_type": "markdown",
   "id": "c4cf0329-fd7e-4e2c-ab62-75f56ea83d0b",
   "metadata": {},
   "source": [
    "PYTHON WORKBOOK #3 - CHAPTER 10"
   ]
  },
  {
   "cell_type": "markdown",
   "id": "e3638250-d28d-439c-8a52-30f3311884dd",
   "metadata": {},
   "source": [
    "EXERCISE 1: Create a tuple with the following items: 1, 1, 2, 3, 5. Feed the tuple to the sum() built-in function and check the result."
   ]
  },
  {
   "cell_type": "code",
   "execution_count": 2,
   "id": "af62a588-625d-4eed-8a4d-15d8bdaa8603",
   "metadata": {},
   "outputs": [
    {
     "name": "stdout",
     "output_type": "stream",
     "text": [
      "The sum of the tuple is: 12\n"
     ]
    }
   ],
   "source": [
    "fibonacci_tuple = (1, 1, 2, 3, 5)\n",
    "sum_result = sum(fibonacci_tuple)\n",
    "print(f'The sum of the tuple is: {sum_result}')"
   ]
  },
  {
   "cell_type": "markdown",
   "id": "f3ec2b36-f4a2-4d79-bab3-d7bdcc525a70",
   "metadata": {},
   "source": [
    "EXERCISE 2: Unpack the following tuple into meaningful variables and display them"
   ]
  },
  {
   "cell_type": "code",
   "execution_count": 3,
   "id": "462e1ce3-952d-4171-8d51-a258421a8c8b",
   "metadata": {},
   "outputs": [
    {
     "name": "stdout",
     "output_type": "stream",
     "text": [
      "Country: Philippines\n",
      "Capital: Manila\n",
      "Population (Millions): 103.3\n"
     ]
    }
   ],
   "source": [
    "ph_info = ('Philippines', 'Manila', 103.3)\n",
    "country, capital, population = ph_info\n",
    "print(f'Country: {country}')\n",
    "print(f'Capital: {capital}')\n",
    "print(f'Population (Millions): {population}')"
   ]
  }
 ],
 "metadata": {
  "kernelspec": {
   "display_name": "Python 3 (ipykernel)",
   "language": "python",
   "name": "python3"
  },
  "language_info": {
   "codemirror_mode": {
    "name": "ipython",
    "version": 3
   },
   "file_extension": ".py",
   "mimetype": "text/x-python",
   "name": "python",
   "nbconvert_exporter": "python",
   "pygments_lexer": "ipython3",
   "version": "3.11.7"
  }
 },
 "nbformat": 4,
 "nbformat_minor": 5
}
