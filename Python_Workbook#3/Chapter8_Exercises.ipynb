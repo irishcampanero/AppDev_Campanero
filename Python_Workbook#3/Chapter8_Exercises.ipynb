{
 "cells": [
  {
   "cell_type": "markdown",
   "id": "60934b0f-56ed-4e76-90a4-569ed1f3b64b",
   "metadata": {},
   "source": [
    "PYTHON WORKBOOK #3 - CHAPTER 8"
   ]
  },
  {
   "cell_type": "markdown",
   "id": "10ef012a-3034-4bba-9349-5dff8186fde9",
   "metadata": {},
   "source": [
    "EXERCISE 1: Create an empty list then add the following numbers using append: 4, 6 9."
   ]
  },
  {
   "cell_type": "code",
   "execution_count": 1,
   "id": "4ba07e5f-09bb-4bcf-899c-af49d37de66f",
   "metadata": {},
   "outputs": [
    {
     "name": "stdout",
     "output_type": "stream",
     "text": [
      "[4, 6, 9]\n"
     ]
    }
   ],
   "source": [
    "numbers = []\n",
    "numbers.append(4)\n",
    "numbers.append(6)\n",
    "numbers.append(9)\n",
    "print(numbers)"
   ]
  },
  {
   "cell_type": "markdown",
   "id": "7ca3d364-0df4-45a8-9590-d6da95762159",
   "metadata": {},
   "source": [
    "EXERCISE 2: Using the range function, create a list containing the numbers from 0 to 10."
   ]
  },
  {
   "cell_type": "code",
   "execution_count": 3,
   "id": "3db1cf1c-1326-4139-994e-2d0fb33f6eb6",
   "metadata": {},
   "outputs": [
    {
     "name": "stdout",
     "output_type": "stream",
     "text": [
      "[0, 1, 2, 3, 4, 5, 6, 7, 8, 9, 10]\n"
     ]
    }
   ],
   "source": [
    "numbers = list(range(11))\n",
    "print(numbers)"
   ]
  },
  {
   "cell_type": "markdown",
   "id": "d54de7f9-e4f4-4ff6-84e5-cdfee100e0fb",
   "metadata": {},
   "source": [
    "EXERCISE 3: Create a list containing the valid grade values, then using enumerate in a for loop, print out all indices and items in the list."
   ]
  },
  {
   "cell_type": "code",
   "execution_count": 4,
   "id": "f93d8d03-8db2-4ea2-b751-50f3dc81fc6d",
   "metadata": {},
   "outputs": [
    {
     "name": "stdout",
     "output_type": "stream",
     "text": [
      "0 1.0\n",
      "1 1.25\n",
      "2 1.5\n",
      "3 1.75\n",
      "4 2.0\n",
      "5 2.25\n",
      "6 2.5\n",
      "7 3.0\n"
     ]
    }
   ],
   "source": [
    "grades = [1.0, 1.25, 1.5, 1.75, 2.0, 2.25, 2.5, 3.0]\n",
    "\n",
    "for index, grade in enumerate(grades):\n",
    "    print(index, grade)"
   ]
  },
  {
   "cell_type": "markdown",
   "id": "8a3c2879-766c-45b7-a85d-8a49635e5bce",
   "metadata": {},
   "source": [
    "EXERCISE 4: Using Index Slicing, print out the list of grades higher than 2.0."
   ]
  },
  {
   "cell_type": "code",
   "execution_count": 7,
   "id": "c7e805a8-ce3b-455a-8411-30ff141c632e",
   "metadata": {},
   "outputs": [
    {
     "name": "stdout",
     "output_type": "stream",
     "text": [
      "[2.25, 2.5, 3.0]\n"
     ]
    }
   ],
   "source": [
    "grades = [1.0, 1.25, 1.5, 1.75, 2.0, 2.25, 2.5, 3.0]\n",
    "grades_above2 = [grade for grade in grades if grade > 2.0]\n",
    "print(grades_above2)"
   ]
  },
  {
   "cell_type": "markdown",
   "id": "89739373-14a4-41a1-aaca-fed82f223aac",
   "metadata": {},
   "source": [
    "EXERCISE 5: Using Index Slicing, print out the list of grades better than 2.0."
   ]
  },
  {
   "cell_type": "code",
   "execution_count": 8,
   "id": "860f3878-ef9d-44d5-950a-8e75c70de965",
   "metadata": {},
   "outputs": [
    {
     "name": "stdout",
     "output_type": "stream",
     "text": [
      "[2.0, 2.25, 2.5, 3.0]\n"
     ]
    }
   ],
   "source": [
    "grades = [1.0, 1.25, 1.5, 1.75, 2.0, 2.25, 2.5, 3.0]\n",
    "index_of_2_0 = grades.index(2.0)\n",
    "grades_better_than2 = grades[index_of_2_0:]\n",
    "print(grades_better_than2)"
   ]
  },
  {
   "cell_type": "markdown",
   "id": "3de2fd9e-ddc2-4ca9-b3c2-4b2900aa40b4",
   "metadata": {},
   "source": [
    "EXERCISE 6: Using Index Slicing, print out the grades 2.0,2.25,2.5."
   ]
  },
  {
   "cell_type": "code",
   "execution_count": 9,
   "id": "c96d5dd2-75d6-4378-a40c-d97635ec1752",
   "metadata": {},
   "outputs": [
    {
     "name": "stdout",
     "output_type": "stream",
     "text": [
      "[2.0, 2.25, 2.5]\n"
     ]
    }
   ],
   "source": [
    "grades = [1.0, 1.25, 1.5, 1.75, 2.0, 2.25, 2.5, 3.0]\n",
    "selectedgrades = grades[4:7]\n",
    "print(selectedgrades)"
   ]
  }
 ],
 "metadata": {
  "kernelspec": {
   "display_name": "Python 3 (ipykernel)",
   "language": "python",
   "name": "python3"
  },
  "language_info": {
   "codemirror_mode": {
    "name": "ipython",
    "version": 3
   },
   "file_extension": ".py",
   "mimetype": "text/x-python",
   "name": "python",
   "nbconvert_exporter": "python",
   "pygments_lexer": "ipython3",
   "version": "3.11.7"
  }
 },
 "nbformat": 4,
 "nbformat_minor": 5
}
