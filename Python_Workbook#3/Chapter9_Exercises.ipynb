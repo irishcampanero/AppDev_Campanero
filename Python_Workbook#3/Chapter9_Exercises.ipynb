{
 "cells": [
  {
   "cell_type": "markdown",
   "id": "8cefb4e3-9d7d-4ed9-8897-ab5b8af06e76",
   "metadata": {},
   "source": [
    "PYTHON WORKBOOK #3 - CHAPTER 9"
   ]
  },
  {
   "cell_type": "markdown",
   "id": "f0d4dee1-bff2-481c-81e6-75e1aa9a6b95",
   "metadata": {},
   "source": [
    "EXERCISE 1: Create a dictionary with the following keys and values showing a partial list of Real GDP growth in Annual percent change from IMF (Source: http://www.imf.org/external/datamapper/NGDP_RPCH@WEO/OEMDC/ADVEC/WEOWORLD)"
   ]
  },
  {
   "cell_type": "code",
   "execution_count": 1,
   "id": "d038950b-f601-4546-8f1e-1bbb5700883e",
   "metadata": {},
   "outputs": [],
   "source": [
    "gdp_growth = {\n",
    "    'China': 6.5,\n",
    "    'Japan': 0.7,\n",
    "    'Philippines': 6.7,\n",
    "    'United States': 2.3\n",
    "}"
   ]
  },
  {
   "cell_type": "markdown",
   "id": "145824da-4b6b-4d6b-a1ae-2daa2400378b",
   "metadata": {},
   "source": [
    "EXERCISE 2: Display all the keys and values from the dictionary you created above"
   ]
  },
  {
   "cell_type": "code",
   "execution_count": 3,
   "id": "0b2a18c6-3559-4e34-8c42-18a8330f4160",
   "metadata": {},
   "outputs": [
    {
     "name": "stdout",
     "output_type": "stream",
     "text": [
      "China: 6.5\n",
      "Japan: 0.7\n",
      "Philippines: 6.7\n",
      "United States: 2.3\n"
     ]
    }
   ],
   "source": [
    "gdp_growth = {\n",
    "    'China': 6.5,\n",
    "    'Japan': 0.7,\n",
    "    'Philippines': 6.7,\n",
    "    'United States': 2.3\n",
    "}\n",
    "\n",
    "for key, value in gdp_growth.items():\n",
    "    print(f'{key}: {value}')"
   ]
  },
  {
   "cell_type": "markdown",
   "id": "395c4545-5196-42e1-88c9-6a37a49d13a4",
   "metadata": {},
   "source": [
    "EXERCISE 3: Write a program that asks the user to enter a line of text and then counts the number of each word that appeared in the line of text. Use the string function split() to make a list of words from a given string"
   ]
  },
  {
   "cell_type": "code",
   "execution_count": null,
   "id": "71268d3f-eef6-465e-bc72-d11fa3715a3c",
   "metadata": {},
   "outputs": [],
   "source": []
  }
 ],
 "metadata": {
  "kernelspec": {
   "display_name": "Python 3 (ipykernel)",
   "language": "python",
   "name": "python3"
  },
  "language_info": {
   "codemirror_mode": {
    "name": "ipython",
    "version": 3
   },
   "file_extension": ".py",
   "mimetype": "text/x-python",
   "name": "python",
   "nbconvert_exporter": "python",
   "pygments_lexer": "ipython3",
   "version": "3.11.7"
  }
 },
 "nbformat": 4,
 "nbformat_minor": 5
}
