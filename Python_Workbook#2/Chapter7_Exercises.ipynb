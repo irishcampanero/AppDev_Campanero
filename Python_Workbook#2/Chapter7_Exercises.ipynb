{
 "cells": [
  {
   "cell_type": "markdown",
   "id": "1cce5f6c-cc0f-414a-a41c-6f62bc35bd37",
   "metadata": {},
   "source": [
    "PYTHON WORKBOOK #2 - CHAPTER 1"
   ]
  },
  {
   "cell_type": "markdown",
   "id": "a95ced77-a5b3-400c-8f93-9e311af0b051",
   "metadata": {},
   "source": [
    "EXERCISE 1: Write a program to read through a file and print the contents of the file (line by line) all in upper case."
   ]
  },
  {
   "cell_type": "code",
   "execution_count": null,
   "id": "26f50ce8-ee90-41af-b148-6dda7030d486",
   "metadata": {},
   "outputs": [],
   "source": [
    "filename = 'your_file.txt'\n",
    "with open(filename, 'r') as file:\n",
    "    for line in file:\n",
    "        print(line.rstrip().upper())"
   ]
  },
  {
   "cell_type": "code",
   "execution_count": null,
   "id": "70c7a901-92ce-4026-b502-61b45c2e297c",
   "metadata": {},
   "outputs": [],
   "source": []
  }
 ],
 "metadata": {
  "kernelspec": {
   "display_name": "Python 3 (ipykernel)",
   "language": "python",
   "name": "python3"
  },
  "language_info": {
   "codemirror_mode": {
    "name": "ipython",
    "version": 3
   },
   "file_extension": ".py",
   "mimetype": "text/x-python",
   "name": "python",
   "nbconvert_exporter": "python",
   "pygments_lexer": "ipython3",
   "version": "3.11.7"
  }
 },
 "nbformat": 4,
 "nbformat_minor": 5
}
