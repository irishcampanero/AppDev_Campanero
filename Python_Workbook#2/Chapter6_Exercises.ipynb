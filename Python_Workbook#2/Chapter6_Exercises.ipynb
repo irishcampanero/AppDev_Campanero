{
 "cells": [
  {
   "cell_type": "markdown",
   "id": "b0f491d2-4d5e-475d-be44-c392183ab808",
   "metadata": {},
   "source": [
    "PYTHON WORKBOOK #2 - CHAPTER 1"
   ]
  },
  {
   "cell_type": "markdown",
   "id": "7ae275f2-03da-4e0c-8f53-2efbb0ba44d8",
   "metadata": {},
   "source": [
    "EXERCISE 1:"
   ]
  },
  {
   "cell_type": "code",
   "execution_count": 3,
   "id": "a59bb52d-49b2-4774-a580-6be54f685f10",
   "metadata": {},
   "outputs": [
    {
     "data": {
      "text/plain": [
       "'Business Analyti'"
      ]
     },
     "execution_count": 3,
     "metadata": {},
     "output_type": "execute_result"
    }
   ],
   "source": [
    "text = 'Business Analytics'\n",
    "\n",
    "text[4]\n",
    "text[2:4]\n",
    "text[:4]\n",
    "text[4:]\n",
    "text[-2]\n",
    "text[-4:-2]\n",
    "text[-2:]\n",
    "text[:-2]"
   ]
  },
  {
   "cell_type": "markdown",
   "id": "385e5dca-ea6e-456f-94a3-8a18a015199f",
   "metadata": {},
   "source": [
    "EXERCISE 2: What string slicing expression gives out."
   ]
  },
  {
   "cell_type": "code",
   "execution_count": 4,
   "id": "dcf3a781-0117-4e76-a48a-05aed0c28850",
   "metadata": {},
   "outputs": [
    {
     "name": "stdout",
     "output_type": "stream",
     "text": [
      "One \n",
      "Ring\n",
      "all\n",
      "hem \n",
      "One Ring to rule them all\n"
     ]
    }
   ],
   "source": [
    "phrase = 'One Ring to rule them all'\n",
    "\n",
    "word1 = phrase[:4]\n",
    "word2 = phrase[4:8]\n",
    "word3 = phrase[-3:]\n",
    "word4 = phrase[-7:-3]\n",
    "word5 = phrase\n",
    "\n",
    "print(word1)\n",
    "print(word2)\n",
    "print(word3)\n",
    "print(word4)\n",
    "print(word5)"
   ]
  },
  {
   "cell_type": "markdown",
   "id": "b354bd78-1a01-41ca-811e-8dcdc79281d8",
   "metadata": {},
   "source": [
    "CHALLENGE: Write a program which repeatedly reads a full name."
   ]
  },
  {
   "cell_type": "code",
   "execution_count": null,
   "id": "11dcef95-5e8e-47d8-9f87-4bb323b82088",
   "metadata": {},
   "outputs": [],
   "source": []
  }
 ],
 "metadata": {
  "kernelspec": {
   "display_name": "Python 3 (ipykernel)",
   "language": "python",
   "name": "python3"
  },
  "language_info": {
   "codemirror_mode": {
    "name": "ipython",
    "version": 3
   },
   "file_extension": ".py",
   "mimetype": "text/x-python",
   "name": "python",
   "nbconvert_exporter": "python",
   "pygments_lexer": "ipython3",
   "version": "3.11.7"
  }
 },
 "nbformat": 4,
 "nbformat_minor": 5
}
