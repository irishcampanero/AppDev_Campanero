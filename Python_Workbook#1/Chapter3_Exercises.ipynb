{
 "cells": [
  {
   "cell_type": "markdown",
   "id": "15997479-30e7-4fa6-a199-a711ca71b06e",
   "metadata": {},
   "source": [
    "PYTHON WORKBOOK #1 - CHAPTER 3"
   ]
  },
  {
   "cell_type": "markdown",
   "id": "2d169e52-469b-499a-97d9-3f326ef161e5",
   "metadata": {},
   "source": [
    "EXERCISE 1: In the code below, which will never print regardless of the value for x? Edit the code to correct the error."
   ]
  },
  {
   "cell_type": "code",
   "execution_count": 7,
   "id": "b7e841bc-38f7-43a3-8c9d-6ef4b5ee75b0",
   "metadata": {},
   "outputs": [
    {
     "ename": "NameError",
     "evalue": "name 'x' is not defined",
     "output_type": "error",
     "traceback": [
      "\u001b[1;31m---------------------------------------------------------------------------\u001b[0m",
      "\u001b[1;31mNameError\u001b[0m                                 Traceback (most recent call last)",
      "Cell \u001b[1;32mIn[7], line 1\u001b[0m\n\u001b[1;32m----> 1\u001b[0m \u001b[38;5;28;01mif\u001b[39;00m x \u001b[38;5;241m>\u001b[39m \u001b[38;5;241m50\u001b[39m:\n\u001b[0;32m      2\u001b[0m     \u001b[38;5;28mprint\u001b[39m(\u001b[38;5;124m'\u001b[39m\u001b[38;5;124mAbove 50\u001b[39m\u001b[38;5;124m'\u001b[39m)\n\u001b[0;32m      3\u001b[0m \u001b[38;5;28;01melif\u001b[39;00m x \u001b[38;5;241m>\u001b[39m \u001b[38;5;241m20\u001b[39m:\n",
      "\u001b[1;31mNameError\u001b[0m: name 'x' is not defined"
     ]
    }
   ],
   "source": [
    "if x > 50:\n",
    "    print('Above 50')\n",
    "elif x > 20:\n",
    "    print('Above 20')\n",
    "elif x > 10:\n",
    "    print('Above 10')\n",
    "elif x > 0:\n",
    "    print('Above 0')\n",
    "else:\n",
    "    print('Something else')"
   ]
  },
  {
   "cell_type": "markdown",
   "id": "2655e8c8-e75f-4600-a78a-0e3e05627ed1",
   "metadata": {},
   "source": [
    "EXERCISE 2: Write your salary computation to give an employee 1.5 times the hourly rate for hours worked above 40 hours."
   ]
  },
  {
   "cell_type": "code",
   "execution_count": 4,
   "id": "b9381043-ea71-4ffb-8ad4-59acf754dc1e",
   "metadata": {},
   "outputs": [
    {
     "name": "stdin",
     "output_type": "stream",
     "text": [
      "Enter Hours:  45\n",
      "Enter Rate:  10\n"
     ]
    },
    {
     "name": "stdout",
     "output_type": "stream",
     "text": [
      "Pay: 475.0\n"
     ]
    }
   ],
   "source": [
    "hours = float(input(\"Enter Hours: \"))\n",
    "rate = float(input(\"Enter Rate: \"))\n",
    "\n",
    "if hours <= 40:\n",
    "    pay = hours * rate\n",
    "else:\n",
    "    regular_pay = 40 * rate\n",
    "    overtime_pay = (hours - 40) * (1.5 * rate)\n",
    "    pay = regular_pay + overtime_pay\n",
    "\n",
    "print(\"Pay:\", pay)"
   ]
  },
  {
   "cell_type": "markdown",
   "id": "7e1d6536-7de7-464b-8583-54f6e4d424f2",
   "metadata": {},
   "source": [
    "CHALLENGE: Write a program to prompt for a score between 0 and 100 and print a grade."
   ]
  },
  {
   "cell_type": "code",
   "execution_count": 6,
   "id": "2e407585-62a0-44fb-845e-7b663d65aa6a",
   "metadata": {},
   "outputs": [
    {
     "name": "stdin",
     "output_type": "stream",
     "text": [
      "Enter score between 0 and 100:  95\n"
     ]
    },
    {
     "name": "stdout",
     "output_type": "stream",
     "text": [
      "Grade: 1.25\n"
     ]
    }
   ],
   "source": [
    "score = float(input(\"Enter score between 0 and 100: \"))\n",
    "\n",
    "if score >= 97:\n",
    "    grade = 1.0\n",
    "elif score >= 93:\n",
    "    grade = 1.25\n",
    "elif score >= 89:\n",
    "    grade = 1.5\n",
    "elif score >= 85:\n",
    "    grade = 1.75\n",
    "elif score >= 81:\n",
    "    grade = 2.0\n",
    "elif score >= 77:\n",
    "    grade = 2.25\n",
    "elif score >= 74:\n",
    "    grade = 2.5\n",
    "else:\n",
    "    grade = 3.0\n",
    "\n",
    "print(\"Grade:\", grade)"
   ]
  }
 ],
 "metadata": {
  "kernelspec": {
   "display_name": "Python 3 (ipykernel)",
   "language": "python",
   "name": "python3"
  },
  "language_info": {
   "codemirror_mode": {
    "name": "ipython",
    "version": 3
   },
   "file_extension": ".py",
   "mimetype": "text/x-python",
   "name": "python",
   "nbconvert_exporter": "python",
   "pygments_lexer": "ipython3",
   "version": "3.11.7"
  }
 },
 "nbformat": 4,
 "nbformat_minor": 5
}
