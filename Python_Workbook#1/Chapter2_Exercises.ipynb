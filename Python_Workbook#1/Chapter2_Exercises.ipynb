{
 "cells": [
  {
   "cell_type": "markdown",
   "id": "bc5b5e95-ed6e-4277-bf9e-f68e5d2cb0eb",
   "metadata": {},
   "source": [
    "PYTHON WORKBOOK #1 - CHAPTER 2"
   ]
  },
  {
   "cell_type": "markdown",
   "id": "a32b4e1f-95a3-4a57-8af7-2cd4ad455c98",
   "metadata": {},
   "source": [
    "EXERCISE 1: Write a program that uses input to prompt a user for their name and then welcomes them."
   ]
  },
  {
   "cell_type": "code",
   "execution_count": 1,
   "id": "6e9ad846-23c4-49ae-8bd3-1b3e85aba3b0",
   "metadata": {},
   "outputs": [
    {
     "name": "stdin",
     "output_type": "stream",
     "text": [
      "Enter your name:  Chuck\n"
     ]
    },
    {
     "name": "stdout",
     "output_type": "stream",
     "text": [
      "Hello  Chuck\n"
     ]
    }
   ],
   "source": [
    "name = input(\"Enter your name: \")\n",
    "\n",
    "print(\"Hello \", name)"
   ]
  },
  {
   "cell_type": "markdown",
   "id": "2cc3feb1-717a-4f5c-ae88-7e01ecbf98ef",
   "metadata": {},
   "source": [
    "EXERCISE 2: Write a program to prompt the user for hours and rate per hour to compute gross pay."
   ]
  },
  {
   "cell_type": "code",
   "execution_count": 2,
   "id": "2085ca54-e466-4e81-8458-77bd8ab42c4d",
   "metadata": {},
   "outputs": [
    {
     "name": "stdin",
     "output_type": "stream",
     "text": [
      "Enter Hours:  35\n",
      "Enter Rate:  2.75\n"
     ]
    },
    {
     "name": "stdout",
     "output_type": "stream",
     "text": [
      "Pay:  96.25\n"
     ]
    }
   ],
   "source": [
    "hours = float(input(\"Enter Hours: \"))\n",
    "rate = float(input(\"Enter Rate: \"))\n",
    "\n",
    "pay = hours * rate\n",
    "print(\"Pay: \", pay)"
   ]
  },
  {
   "cell_type": "markdown",
   "id": "d96f0fd7-7a18-4a87-b5b5-457646d10561",
   "metadata": {},
   "source": [
    "EXERCISE 3: Write the value of the expression and the type (of the value of the expression)."
   ]
  },
  {
   "cell_type": "code",
   "execution_count": 3,
   "id": "fa2f659b-ad75-43dc-9cea-575c152ae791",
   "metadata": {},
   "outputs": [
    {
     "name": "stdout",
     "output_type": "stream",
     "text": [
      "Value:  8\n",
      "<class 'int'>\n",
      "Value:  8.5\n",
      "<class 'float'>\n",
      "Value:  4.0\n",
      "<class 'float'>\n",
      "Value:  11\n",
      "<class 'int'>\n"
     ]
    }
   ],
   "source": [
    "width = 17\n",
    "height = 12.0\n",
    "\n",
    "ex1 = width//2\n",
    "print(\"Value: \", ex1)\n",
    "print(type(ex1))\n",
    "\n",
    "ex2 = width/2.0\n",
    "print(\"Value: \", ex2)\n",
    "print(type(ex2))\n",
    "\n",
    "ex3 = height/3\n",
    "print(\"Value: \", ex3)\n",
    "print(type(ex3))\n",
    "\n",
    "ex4 = 1 + 2 * 5\n",
    "print(\"Value: \", ex4)\n",
    "print(type(ex4))"
   ]
  },
  {
   "cell_type": "markdown",
   "id": "05721678-1acb-49aa-8e2e-8b46a5722947",
   "metadata": {},
   "source": [
    "EXERCISE 4: Write a program that uses input to prompt a user for a number and then outputs the square of the number."
   ]
  },
  {
   "cell_type": "code",
   "execution_count": 4,
   "id": "574bc287-e827-4a3b-a46a-d8431f940ad8",
   "metadata": {},
   "outputs": [
    {
     "name": "stdin",
     "output_type": "stream",
     "text": [
      "Enter a number:  3\n"
     ]
    },
    {
     "name": "stdout",
     "output_type": "stream",
     "text": [
      "The square of 3 is 9\n"
     ]
    }
   ],
   "source": [
    "number = int(input(\"Enter a number: \"))\n",
    "sr = number**2\n",
    "\n",
    "print(\"The square of\", number, \"is\", sr)"
   ]
  },
  {
   "cell_type": "markdown",
   "id": "a27e7173-8f2f-48b3-97f5-32a7b17a4d6b",
   "metadata": {},
   "source": [
    "CHALLENGE: Write a program which prompts the user for a Celsius temperature, convert the temperature to Fahrenheit, and print out the converted temperature."
   ]
  },
  {
   "cell_type": "code",
   "execution_count": 5,
   "id": "30c60bc6-d9f6-4941-96a6-d03c658277b0",
   "metadata": {},
   "outputs": [
    {
     "name": "stdin",
     "output_type": "stream",
     "text": [
      "Enter temperature in Celsius:  20\n"
     ]
    },
    {
     "name": "stdout",
     "output_type": "stream",
     "text": [
      "The temperature in Fahrenheit is:  68.0\n"
     ]
    }
   ],
   "source": [
    "celsius = float(input(\"Enter temperature in Celsius: \"))\n",
    "fahrenheit = 9/5 * celsius + 32\n",
    "\n",
    "print(\"The temperature in Fahrenheit is: \", fahrenheit)"
   ]
  }
 ],
 "metadata": {
  "kernelspec": {
   "display_name": "Python 3 (ipykernel)",
   "language": "python",
   "name": "python3"
  },
  "language_info": {
   "codemirror_mode": {
    "name": "ipython",
    "version": 3
   },
   "file_extension": ".py",
   "mimetype": "text/x-python",
   "name": "python",
   "nbconvert_exporter": "python",
   "pygments_lexer": "ipython3",
   "version": "3.11.7"
  }
 },
 "nbformat": 4,
 "nbformat_minor": 5
}
