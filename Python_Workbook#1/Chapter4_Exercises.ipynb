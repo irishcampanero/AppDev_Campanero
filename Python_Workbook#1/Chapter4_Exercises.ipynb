{
 "cells": [
  {
   "cell_type": "markdown",
   "id": "8c6a785f-4aac-4081-847d-190c5962b4f6",
   "metadata": {},
   "source": [
    "PYTHON WORKBOOK #1 - CHAPTER 4"
   ]
  },
  {
   "cell_type": "markdown",
   "id": "9c870042-e657-4f6a-86fb-b76806672ad7",
   "metadata": {},
   "source": [
    "EXERCISE 1: Rewrite your pay computation with time-and-a-half for overtime and create a function called compute pay which takes two parameters (hours and rate)."
   ]
  },
  {
   "cell_type": "code",
   "execution_count": 2,
   "id": "96b343b3-d624-4635-b66f-80ea4d235dfd",
   "metadata": {},
   "outputs": [
    {
     "name": "stdin",
     "output_type": "stream",
     "text": [
      "Enter Hours:  45\n",
      "Enter Rate:  10\n"
     ]
    },
    {
     "name": "stdout",
     "output_type": "stream",
     "text": [
      "Pay: 475.0\n"
     ]
    }
   ],
   "source": [
    "def compute_pay(hours, rate):\n",
    "    if hours <= 40:\n",
    "        pay = hours * rate\n",
    "    else:\n",
    "        regular_pay = 40 * rate\n",
    "        overtime_pay = (hours - 40) * (1.5 * rate)\n",
    "        pay = regular_pay + overtime_pay\n",
    "    return pay\n",
    "\n",
    "hours = float(input(\"Enter Hours: \"))\n",
    "rate = float(input(\"Enter Rate: \"))\n",
    "\n",
    "pay = compute_pay(hours, rate)\n",
    "print(\"Pay:\", pay)"
   ]
  },
  {
   "cell_type": "code",
   "execution_count": null,
   "id": "5b2acec4-b170-421b-b8e8-5e6ba5b04dd5",
   "metadata": {},
   "outputs": [],
   "source": []
  }
 ],
 "metadata": {
  "kernelspec": {
   "display_name": "Python 3 (ipykernel)",
   "language": "python",
   "name": "python3"
  },
  "language_info": {
   "codemirror_mode": {
    "name": "ipython",
    "version": 3
   },
   "file_extension": ".py",
   "mimetype": "text/x-python",
   "name": "python",
   "nbconvert_exporter": "python",
   "pygments_lexer": "ipython3",
   "version": "3.11.7"
  }
 },
 "nbformat": 4,
 "nbformat_minor": 5
}
