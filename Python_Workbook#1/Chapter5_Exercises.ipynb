{
 "cells": [
  {
   "cell_type": "markdown",
   "id": "6919c8cd-98ec-41e7-a02e-2eed10cd22f9",
   "metadata": {},
   "source": [
    "PYTHON WORKBOOK #1 - CHAPTER 5"
   ]
  },
  {
   "cell_type": "markdown",
   "id": "b6094730-f8ff-424e-b68d-47cc088414ec",
   "metadata": {},
   "source": [
    "EXERCISE 1: Investigate on the difference between is and == given the following variables."
   ]
  },
  {
   "cell_type": "code",
   "execution_count": 2,
   "id": "dccfa337-74a3-4f60-ac8f-1b86b065e5d9",
   "metadata": {},
   "outputs": [
    {
     "name": "stdout",
     "output_type": "stream",
     "text": [
      "Using  operator:\n",
      "a is b: False\n",
      "a is c: True\n",
      "\n",
      "Using '==' operator:\n",
      "a == b: True\n",
      "a == c: True\n"
     ]
    }
   ],
   "source": [
    "a = 2\n",
    "b = 2.0\n",
    "c = a\n",
    "\n",
    "print(\"Using  operator:\")\n",
    "print(\"a is b:\", a is b)\n",
    "print(\"a is c:\", a is c)\n",
    "\n",
    "print(\"\\nUsing '==' operator:\")\n",
    "print(\"a == b:\", a == b)\n",
    "print(\"a == c:\", a == c)"
   ]
  },
  {
   "cell_type": "markdown",
   "id": "243b39d4-1104-4c0e-8417-e4e54c55599e",
   "metadata": {},
   "source": [
    "CHALLENGE 1: Write a program which repeatedly reads numbers until the user enters \"done\". Once \"done\" is entered, print out the total, count, and average of the numbers. If the user enters anything other than a number, detect their mistake using try and except and print an error message and skip to the next number."
   ]
  },
  {
   "cell_type": "code",
   "execution_count": 4,
   "id": "61369b6d-2508-442d-81e0-95cab9a68b53",
   "metadata": {},
   "outputs": [
    {
     "name": "stdin",
     "output_type": "stream",
     "text": [
      "Enter a number:  4\n",
      "Enter a number:  5\n",
      "Enter a number:  bad data\n"
     ]
    },
    {
     "name": "stdout",
     "output_type": "stream",
     "text": [
      "Invalid input\n"
     ]
    },
    {
     "name": "stdin",
     "output_type": "stream",
     "text": [
      "Enter a number:  7\n",
      "Enter a number:  done\n"
     ]
    },
    {
     "name": "stdout",
     "output_type": "stream",
     "text": [
      "Total: 16.0\n"
     ]
    }
   ],
   "source": [
    "total = 0\n",
    "count = 0\n",
    "\n",
    "while True:\n",
    "    num_input = input(\"Enter a number: \")\n",
    "    if num_input.lower() == 'done':\n",
    "        break\n",
    "    try:\n",
    "        num = float(num_input)\n",
    "        total += num\n",
    "        count += 1\n",
    "    except ValueError:\n",
    "        print(\"Invalid input\")\n",
    "\n",
    "if count == 0:\n",
    "    print(\"No numbers entered.\")\n",
    "else:\n",
    "    average = total / count\n",
    "    print(\"Total:\", total)"
   ]
  },
  {
   "cell_type": "markdown",
   "id": "26ef35f9-8bf2-4aa2-bba5-b9845413cabc",
   "metadata": {},
   "source": [
    "CHALLENGE 2: Write another program that prompts for a list of numbers as above and at the end prints out both the maximum and minimum of the numbers instead of the average."
   ]
  },
  {
   "cell_type": "code",
   "execution_count": null,
   "id": "8f55aec9-e38e-4278-9b09-0728deb56987",
   "metadata": {},
   "outputs": [],
   "source": [
    "total = 0\n",
    "count = 0\n",
    "maximum = None\n",
    "minimum = None\n",
    "\n",
    "while True:\n",
    "    num_input = input(\"Enter a number: \")\n",
    "    if num_input.lower() == 'done':\n",
    "        break\n",
    "    try:\n",
    "        num = float(num_input)\n",
    "        total += num\n",
    "        count += 1\n",
    "        if maximum is None or num > maximum:\n",
    "            maximum = num\n",
    "        if minimum is None or num < minimum:\n",
    "            minimum = num\n",
    "    except ValueError:\n",
    "        print(\"Invalid input\")\n",
    "\n",
    "if count == 0:\n",
    "    print(\"No numbers entered.\")\n",
    "else:\n",
    "    print(\"Total:\", total)\n",
    "    print(\"Count:\", count)\n",
    "    print(\"Maximum:\", maximum)\n",
    "    print(\"Minimum:\", minimum)"
   ]
  }
 ],
 "metadata": {
  "kernelspec": {
   "display_name": "Python 3 (ipykernel)",
   "language": "python",
   "name": "python3"
  },
  "language_info": {
   "codemirror_mode": {
    "name": "ipython",
    "version": 3
   },
   "file_extension": ".py",
   "mimetype": "text/x-python",
   "name": "python",
   "nbconvert_exporter": "python",
   "pygments_lexer": "ipython3",
   "version": "3.11.7"
  }
 },
 "nbformat": 4,
 "nbformat_minor": 5
}
